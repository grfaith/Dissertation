{
 "cells": [
  {
   "cell_type": "code",
   "execution_count": 1,
   "id": "fdf382be",
   "metadata": {},
   "outputs": [],
   "source": [
    "import pandas as pd\n",
    "import requests\n",
    "from io import StringIO\n",
    "\n"
   ]
  },
  {
   "cell_type": "code",
   "execution_count": 2,
   "id": "2bfb6da6",
   "metadata": {},
   "outputs": [],
   "source": [
    "def read_articles_csv(file_path):\n",
    "    \"\"\"\n",
    "    Reads a CSV file containing article data and returns a DataFrame.\n",
    "    \n",
    "    Args:\n",
    "        file_path (str): The path to the CSV file.\n",
    "        \n",
    "    Returns:\n",
    "        df_articles (pd.DataFrame): A DataFrame containing the article data.\n",
    "    \"\"\"\n",
    "    df_articles = pd.read_csv(file_path)\n",
    "    return df_articles\n"
   ]
  },
  {
   "cell_type": "code",
   "execution_count": 3,
   "id": "8fe3363a",
   "metadata": {},
   "outputs": [],
   "source": [
    "def get_unique_keywords(df_articles):\n",
    "    \"\"\"\n",
    "    Extracts unique keywords from the 'keyword' column of a DataFrame.\n",
    "\n",
    "    Args:\n",
    "        df_articles (pd.DataFrame): The DataFrame containing article data.\n",
    "        \n",
    "    Returns:\n",
    "        keywords (list): A list of unique keywords.\n",
    "    \"\"\"\n",
    "    keywords = list(df_articles['keyword'].unique())\n",
    "    return keywords"
   ]
  },
  {
   "cell_type": "code",
   "execution_count": 4,
   "id": "f0dc4865",
   "metadata": {},
   "outputs": [],
   "source": [
    "def fetch_newspapers_data():\n",
    "    \"\"\"\n",
    "    Fetches newspaper data from the Chronicling America website and returns a DataFrame.\n",
    "\n",
    "    Returns:\n",
    "        df_newspapers (pd.DataFrame): A DataFrame containing the newspaper data.\n",
    "    \"\"\"\n",
    "    url = 'https://chroniclingamerica.loc.gov/newspapers.txt'\n",
    "    response = requests.get(url)\n",
    "    data = response.text\n",
    "\n",
    "    # Read the tab-separated values (TSV) data as a DataFrame.\n",
    "    df_newspapers = pd.read_csv(StringIO(data), delimiter='|')\n",
    "\n",
    "    # Remove leading and trailing whitespaces from the column names.\n",
    "    df_newspapers.columns = [i.strip() for i in df_newspapers.columns]\n",
    "\n",
    "    return df_newspapers"
   ]
  },
  {
   "cell_type": "code",
   "execution_count": 5,
   "id": "b1102aee",
   "metadata": {},
   "outputs": [],
   "source": [
    "def get_newspapers_with_keywords(df_newspapers, keywords):\n",
    "    \"\"\"\n",
    "    Filters a DataFrame of newspapers to keep only the rows where the 'Title' column\n",
    "    contains any of the given keywords.\n",
    "\n",
    "    Args:\n",
    "        df_newspapers (pd.DataFrame): The DataFrame containing newspaper data.\n",
    "        keywords (list): A list of keywords to search for in the 'Title' column.\n",
    "\n",
    "    Returns:\n",
    "        newspapers_with_keywords (pd.DataFrame): A DataFrame containing the filtered newspaper data.\n",
    "    \"\"\"\n",
    "    newspapers_with_keywords = df_newspapers.loc[df_newspapers['Title'].str.lower().str.contains('|'.join(keywords))]\n",
    "    return newspapers_with_keywords"
   ]
  },
  {
   "cell_type": "code",
   "execution_count": 6,
   "id": "e0a0076e",
   "metadata": {},
   "outputs": [],
   "source": [
    "def get_keyword_LCCN(newspapers_with_keywords):\n",
    "    \"\"\"\n",
    "    Extracts the 'LCCN' values from a DataFrame of newspapers and removes leading/trailing whitespaces.\n",
    "\n",
    "    Args:\n",
    "        newspapers_with_keywords (pd.DataFrame): The DataFrame containing filtered newspaper data.\n",
    "\n",
    "    Returns:\n",
    "        keyword_LCCN (list): A list of 'LCCN' values.\n",
    "    \"\"\"\n",
    "    keyword_LCCN = [i.strip() for i in list(newspapers_with_keywords['LCCN'])]\n",
    "    return keyword_LCCN"
   ]
  },
  {
   "cell_type": "code",
   "execution_count": 7,
   "id": "e33bb4b5",
   "metadata": {},
   "outputs": [],
   "source": [
    "def add_LCCN_column(df_articles):\n",
    "    \"\"\"\n",
    "    Adds an 'LCCN' column to a DataFrame of articles, extracted from the 'hit_id' column.\n",
    "\n",
    "    Args:\n",
    "        df_articles (pd.DataFrame): The DataFrame containing article data.\n",
    "\n",
    "    Returns:\n",
    "        df_articles (pd.DataFrame): The DataFrame with the added 'LCCN' column.\n",
    "    \"\"\"\n",
    "    df_articles['LCCN'] = df_articles['hit_id'].str.split(\"/\").str[0]\n",
    "    return df_articles"
   ]
  },
  {
   "cell_type": "code",
   "execution_count": 8,
   "id": "ccb94304",
   "metadata": {},
   "outputs": [],
   "source": [
    "def filter_articles_with_keywords_titles(df_articles, keyword_LCCN):\n",
    "    \"\"\"\n",
    "    Filters a DataFrame of articles to keep only the rows where the 'LCCN' column\n",
    "    contains any of the given 'LCCN' values.\n",
    "\n",
    "    Args:\n",
    "        df_articles (pd.DataFrame): The DataFrame containing article data.\n",
    "        keyword_LCCN (list): A list of 'LCCN' values to search for in the 'LCCN' column.\n",
    "\n",
    "    Returns:\n",
    "        articles_with_keywords_titles (pd.DataFrame): A DataFrame containing the filtered article data.\n",
    "    \"\"\"\n",
    "    articles_with_keywords_titles = df_articles.loc[df_articles['LCCN'].str.lower().str.contains('|'.join(keyword_LCCN))]\n",
    "    return articles_with_keywords_titles"
   ]
  },
  {
   "cell_type": "code",
   "execution_count": 9,
   "id": "f9eb573c",
   "metadata": {},
   "outputs": [],
   "source": [
    "def exclude_newspapers(df_articles, keyword_LCCN):\n",
    "    \"\"\"\n",
    "    Filters a DataFrame of articles to exclude rows where the 'LCCN' column\n",
    "    contains any of the given 'LCCN' values.\n",
    "\n",
    "    Args:\n",
    "        df_articles (pd.DataFrame): The DataFrame containing article data.\n",
    "        keyword_LCCN (list): A list of 'LCCN' values to exclude from the 'LCCN' column.\n",
    "\n",
    "    Returns:\n",
    "        excluding_those_newspapers (pd.DataFrame): A DataFrame containing the filtered article data.\n",
    "    \"\"\"\n",
    "    excluding_those_newspapers = df_articles.loc[~df_articles['LCCN'].str.lower().str.contains('|'.join(keyword_LCCN))]\n",
    "    return excluding_those_newspapers"
   ]
  },
  {
   "cell_type": "code",
   "execution_count": 10,
   "id": "a6500b30",
   "metadata": {},
   "outputs": [],
   "source": [
    "def filter_more_than_one_keyword(df_articles):\n",
    "    \"\"\"\n",
    "    Filters a DataFrame of articles to keep only the rows where the 'hit_id' value\n",
    "    occurs more than once.\n",
    "\n",
    "    Args:\n",
    "        df_articles (pd.DataFrame): The DataFrame containing article data.\n",
    "\n",
    "    Returns:\n",
    "        more_than_one_keyword (pd.DataFrame): A DataFrame containing the filtered article data.\n",
    "    \"\"\"\n",
    "    hit_counts = df_articles['hit_id'].value_counts()\n",
    "    mask = df_articles['hit_id'].isin(hit_counts[hit_counts > 1].index)\n",
    "    more_than_one_keyword = df_articles.loc[mask]\n",
    "    return more_than_one_keyword"
   ]
  },
  {
   "cell_type": "code",
   "execution_count": 11,
   "id": "45267b96",
   "metadata": {},
   "outputs": [],
   "source": [
    "def merge_with_title(df_articles, df_newspapers):\n",
    "    \"\"\"\n",
    "    Merges two DataFrames, 'df_articles' and 'df_newspapers', on the 'LCCN' column.\n",
    "\n",
    "    Args:\n",
    "        df_articles (pd.DataFrame): The DataFrame containing article data.\n",
    "        df_newspapers (pd.DataFrame): The DataFrame containing newspaper data.\n",
    "\n",
    "    Returns:\n",
    "        merged_df (pd.DataFrame): The merged DataFrame.\n",
    "    \"\"\"\n",
    "    merged_df = df_articles.merge(df_newspapers, left_on='LCCN', right_on='LCCN', how='left')\n",
    "    return merged_df"
   ]
  },
  {
   "cell_type": "code",
   "execution_count": 12,
   "id": "f986447a",
   "metadata": {},
   "outputs": [],
   "source": [
    "def group_by_title_and_year(merged_df):\n",
    "    \"\"\"\n",
    "    Groups a DataFrame by the 'Title' and 'year' columns and returns the count for each group.\n",
    "\n",
    "    Args:\n",
    "        merged_df (pd.DataFrame): The DataFrame to group.\n",
    "\n",
    "    Returns:\n",
    "        grouped_df (pd.DataFrame): The grouped and counted DataFrame.\n",
    "    \"\"\"\n",
    "    grouped_df = merged_df.groupby([\"Title\", 'year']).count().reset_index()\n",
    "    return grouped_df"
   ]
  },
  {
   "cell_type": "code",
   "execution_count": 13,
   "id": "85c8d26c",
   "metadata": {},
   "outputs": [],
   "source": [
    "# Main execution\n",
    "if __name__ == \"__main__\":\n",
    "    df_articles = read_articles_csv(\"...data_input/total_result_1.csv\")\n",
    "    keywords = get_unique_keywords(df_articles)\n",
    "    df_newspapers = fetch_newspapers_data()\n",
    "    newspapers_with_keywords = get_newspapers_with_keywords(df_newspapers, keywords)\n",
    "    keyword_LCCN = get_keyword_LCCN(newspapers_with_keywords)\n",
    "    df_articles = add_LCCN_column(df_articles)\n",
    "    articles_with_keywords_titles = filter_articles_with_keywords_titles(df_articles, keyword_LCCN)\n",
    "    excluding_those_newspapers = exclude_newspapers(df_articles, keyword_LCCN)\n",
    "    more_than_one_keyword = filter_more_than_one_keyword(excluding_those_newspapers)\n",
    "    with_title = merge_with_title(more_than_one_keyword, df_newspapers)\n",
    "    with_title.to_csv(\".../data_output/with_title.csv\")"
   ]
  },
  {
   "cell_type": "code",
   "execution_count": null,
   "id": "953fce93",
   "metadata": {},
   "outputs": [],
   "source": []
  },
  {
   "cell_type": "code",
   "execution_count": null,
   "id": "cd1e8656",
   "metadata": {},
   "outputs": [],
   "source": []
  }
 ],
 "metadata": {
  "kernelspec": {
   "display_name": "Python 3 (ipykernel)",
   "language": "python",
   "name": "python3"
  },
  "language_info": {
   "codemirror_mode": {
    "name": "ipython",
    "version": 3
   },
   "file_extension": ".py",
   "mimetype": "text/x-python",
   "name": "python",
   "nbconvert_exporter": "python",
   "pygments_lexer": "ipython3",
   "version": "3.9.13"
  }
 },
 "nbformat": 4,
 "nbformat_minor": 5
}
