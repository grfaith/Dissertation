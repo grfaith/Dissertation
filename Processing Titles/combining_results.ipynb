{
 "cells": [
  {
   "cell_type": "code",
   "execution_count": 1,
   "id": "9bbf6fce",
   "metadata": {},
   "outputs": [],
   "source": [
    "#Preliminaries\n",
    "\n",
    "#This is a program to combnine multiple results files\n",
    "import pandas as pd\n",
    "import csv\n",
    "import os\n",
    "import glob\n",
    "import re"
   ]
  },
  {
   "cell_type": "code",
   "execution_count": 2,
   "id": "f5bd5035",
   "metadata": {},
   "outputs": [],
   "source": [
    "input_dir = (os.getcwd()+\"\\data_input\")\n",
    "combined = pd.read_csv(\"init.csv\")"
   ]
  },
  {
   "cell_type": "code",
   "execution_count": 3,
   "id": "f75c47a3",
   "metadata": {},
   "outputs": [],
   "source": [
    "path = (input_dir+\"\\**\\*.csv\")\n",
    "for file in glob.glob(path, recursive=True):\n",
    "    file_name = re.split('_',file)\n",
    "    kw=(file_name[3]) #pulling kw from file name\n",
    "    year=((file_name[4])[0:4]) #gets fourth field from file_name and then takes first four characters to get year\n",
    "    result = pd.read_csv(file)\n",
    "    result.columns = ['hit_id']\n",
    "    result['keyword']=kw\n",
    "    result['year']=year\n",
    "    combined=pd.concat([combined,result])\n",
    "combined.to_csv('total_result_1.csv')\n"
   ]
  }
 ],
 "metadata": {
  "kernelspec": {
   "display_name": "Python 3 (ipykernel)",
   "language": "python",
   "name": "python3"
  },
  "language_info": {
   "codemirror_mode": {
    "name": "ipython",
    "version": 3
   },
   "file_extension": ".py",
   "mimetype": "text/x-python",
   "name": "python",
   "nbconvert_exporter": "python",
   "pygments_lexer": "ipython3",
   "version": "3.9.13"
  }
 },
 "nbformat": 4,
 "nbformat_minor": 5
}
